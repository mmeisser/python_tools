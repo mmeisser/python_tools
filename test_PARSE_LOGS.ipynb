{
  "nbformat": 4,
  "nbformat_minor": 0,
  "metadata": {
    "colab": {
      "name": "test_PARSE_LOGS.ipynb",
      "provenance": [],
      "collapsed_sections": [],
      "toc_visible": true,
      "include_colab_link": true
    },
    "kernelspec": {
      "name": "python3",
      "display_name": "Python 3"
    }
  },
  "cells": [
    {
      "cell_type": "markdown",
      "metadata": {
        "id": "view-in-github",
        "colab_type": "text"
      },
      "source": [
        "<a href=\"https://colab.research.google.com/github/mmeisser/python_tools/blob/master/test_PARSE_LOGS.ipynb\" target=\"_parent\"><img src=\"https://colab.research.google.com/assets/colab-badge.svg\" alt=\"Open In Colab\"/></a>"
      ]
    },
    {
      "cell_type": "markdown",
      "metadata": {
        "id": "X-T4_VHDPdIN"
      },
      "source": [
        "# Plot Akra loadcell raw values\r\n",
        "\r\n",
        "This notebook/python script does read log files collected with akra (v1.26.4 or above)"
      ]
    },
    {
      "cell_type": "markdown",
      "metadata": {
        "id": "MrM5QkSZB9o0"
      },
      "source": [
        "## 1. LOAD"
      ]
    },
    {
      "cell_type": "markdown",
      "metadata": {
        "id": "ZZfcWuK7PK35"
      },
      "source": [
        "First select the file to upload:\r\n",
        "(run the below code section)"
      ]
    },
    {
      "cell_type": "code",
      "metadata": {
        "colab": {
          "resources": {
            "http://localhost:8080/nbextensions/google.colab/files.js": {
              "data": "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",
              "ok": true,
              "headers": [
                [
                  "content-type",
                  "application/javascript"
                ]
              ],
              "status": 200,
              "status_text": ""
            }
          },
          "base_uri": "https://localhost:8080/",
          "height": 412
        },
        "id": "5UONk7WlXuxN",
        "outputId": "f53e873b-1163-4d0a-ec15-864dfe8bc4d1"
      },
      "source": [
        "from google.colab import files\r\n",
        "uploaded = files.upload()\r\n",
        "\r\n",
        "#uploaded #uncomment to check the content of file\r\n",
        "\r\n"
      ],
      "execution_count": null,
      "outputs": [
        {
          "output_type": "display_data",
          "data": {
            "text/html": [
              "\n",
              "     <input type=\"file\" id=\"files-0b292ca8-a6aa-4581-be32-db93856d1a73\" name=\"files[]\" multiple disabled\n",
              "        style=\"border:none\" />\n",
              "     <output id=\"result-0b292ca8-a6aa-4581-be32-db93856d1a73\">\n",
              "      Upload widget is only available when the cell has been executed in the\n",
              "      current browser session. Please rerun this cell to enable.\n",
              "      </output>\n",
              "      <script src=\"/nbextensions/google.colab/files.js\"></script> "
            ],
            "text/plain": [
              "<IPython.core.display.HTML object>"
            ]
          },
          "metadata": {
            "tags": []
          }
        },
        {
          "output_type": "error",
          "ename": "KeyboardInterrupt",
          "evalue": "ignored",
          "traceback": [
            "\u001b[0;31m---------------------------------------------------------------------------\u001b[0m",
            "\u001b[0;31mKeyboardInterrupt\u001b[0m                         Traceback (most recent call last)",
            "\u001b[0;32m<ipython-input-2-39b965ae0a20>\u001b[0m in \u001b[0;36m<module>\u001b[0;34m()\u001b[0m\n\u001b[1;32m      1\u001b[0m \u001b[0;32mfrom\u001b[0m \u001b[0mgoogle\u001b[0m\u001b[0;34m.\u001b[0m\u001b[0mcolab\u001b[0m \u001b[0;32mimport\u001b[0m \u001b[0mfiles\u001b[0m\u001b[0;34m\u001b[0m\u001b[0;34m\u001b[0m\u001b[0m\n\u001b[0;32m----> 2\u001b[0;31m \u001b[0muploaded\u001b[0m \u001b[0;34m=\u001b[0m \u001b[0mfiles\u001b[0m\u001b[0;34m.\u001b[0m\u001b[0mupload\u001b[0m\u001b[0;34m(\u001b[0m\u001b[0;34m)\u001b[0m\u001b[0;34m\u001b[0m\u001b[0;34m\u001b[0m\u001b[0m\n\u001b[0m\u001b[1;32m      3\u001b[0m \u001b[0;34m\u001b[0m\u001b[0m\n\u001b[1;32m      4\u001b[0m \u001b[0;31m#uploaded #uncomment to check the content of file\u001b[0m\u001b[0;34m\u001b[0m\u001b[0;34m\u001b[0m\u001b[0;34m\u001b[0m\u001b[0m\n\u001b[1;32m      5\u001b[0m \u001b[0;34m\u001b[0m\u001b[0m\n",
            "\u001b[0;32m/usr/local/lib/python3.6/dist-packages/google/colab/files.py\u001b[0m in \u001b[0;36mupload\u001b[0;34m()\u001b[0m\n\u001b[1;32m     62\u001b[0m   result = _output.eval_js(\n\u001b[1;32m     63\u001b[0m       'google.colab._files._uploadFiles(\"{input_id}\", \"{output_id}\")'.format(\n\u001b[0;32m---> 64\u001b[0;31m           input_id=input_id, output_id=output_id))\n\u001b[0m\u001b[1;32m     65\u001b[0m   \u001b[0mfiles\u001b[0m \u001b[0;34m=\u001b[0m \u001b[0m_collections\u001b[0m\u001b[0;34m.\u001b[0m\u001b[0mdefaultdict\u001b[0m\u001b[0;34m(\u001b[0m\u001b[0m_six\u001b[0m\u001b[0;34m.\u001b[0m\u001b[0mbinary_type\u001b[0m\u001b[0;34m)\u001b[0m\u001b[0;34m\u001b[0m\u001b[0;34m\u001b[0m\u001b[0m\n\u001b[1;32m     66\u001b[0m   \u001b[0;31m# Mapping from original filename to filename as saved locally.\u001b[0m\u001b[0;34m\u001b[0m\u001b[0;34m\u001b[0m\u001b[0;34m\u001b[0m\u001b[0m\n",
            "\u001b[0;32m/usr/local/lib/python3.6/dist-packages/google/colab/output/_js.py\u001b[0m in \u001b[0;36meval_js\u001b[0;34m(script, ignore_result, timeout_sec)\u001b[0m\n\u001b[1;32m     38\u001b[0m   \u001b[0;32mif\u001b[0m \u001b[0mignore_result\u001b[0m\u001b[0;34m:\u001b[0m\u001b[0;34m\u001b[0m\u001b[0;34m\u001b[0m\u001b[0m\n\u001b[1;32m     39\u001b[0m     \u001b[0;32mreturn\u001b[0m\u001b[0;34m\u001b[0m\u001b[0;34m\u001b[0m\u001b[0m\n\u001b[0;32m---> 40\u001b[0;31m   \u001b[0;32mreturn\u001b[0m \u001b[0m_message\u001b[0m\u001b[0;34m.\u001b[0m\u001b[0mread_reply_from_input\u001b[0m\u001b[0;34m(\u001b[0m\u001b[0mrequest_id\u001b[0m\u001b[0;34m,\u001b[0m \u001b[0mtimeout_sec\u001b[0m\u001b[0;34m)\u001b[0m\u001b[0;34m\u001b[0m\u001b[0;34m\u001b[0m\u001b[0m\n\u001b[0m\u001b[1;32m     41\u001b[0m \u001b[0;34m\u001b[0m\u001b[0m\n\u001b[1;32m     42\u001b[0m \u001b[0;34m\u001b[0m\u001b[0m\n",
            "\u001b[0;32m/usr/local/lib/python3.6/dist-packages/google/colab/_message.py\u001b[0m in \u001b[0;36mread_reply_from_input\u001b[0;34m(message_id, timeout_sec)\u001b[0m\n\u001b[1;32m     99\u001b[0m     \u001b[0mreply\u001b[0m \u001b[0;34m=\u001b[0m \u001b[0m_read_next_input_message\u001b[0m\u001b[0;34m(\u001b[0m\u001b[0;34m)\u001b[0m\u001b[0;34m\u001b[0m\u001b[0;34m\u001b[0m\u001b[0m\n\u001b[1;32m    100\u001b[0m     \u001b[0;32mif\u001b[0m \u001b[0mreply\u001b[0m \u001b[0;34m==\u001b[0m \u001b[0m_NOT_READY\u001b[0m \u001b[0;32mor\u001b[0m \u001b[0;32mnot\u001b[0m \u001b[0misinstance\u001b[0m\u001b[0;34m(\u001b[0m\u001b[0mreply\u001b[0m\u001b[0;34m,\u001b[0m \u001b[0mdict\u001b[0m\u001b[0;34m)\u001b[0m\u001b[0;34m:\u001b[0m\u001b[0;34m\u001b[0m\u001b[0;34m\u001b[0m\u001b[0m\n\u001b[0;32m--> 101\u001b[0;31m       \u001b[0mtime\u001b[0m\u001b[0;34m.\u001b[0m\u001b[0msleep\u001b[0m\u001b[0;34m(\u001b[0m\u001b[0;36m0.025\u001b[0m\u001b[0;34m)\u001b[0m\u001b[0;34m\u001b[0m\u001b[0;34m\u001b[0m\u001b[0m\n\u001b[0m\u001b[1;32m    102\u001b[0m       \u001b[0;32mcontinue\u001b[0m\u001b[0;34m\u001b[0m\u001b[0;34m\u001b[0m\u001b[0m\n\u001b[1;32m    103\u001b[0m     if (reply.get('type') == 'colab_reply' and\n",
            "\u001b[0;31mKeyboardInterrupt\u001b[0m: "
          ]
        }
      ]
    },
    {
      "cell_type": "markdown",
      "metadata": {
        "id": "vGb-AvZ22zDX"
      },
      "source": [
        "Then load the (selected) file into a (panda) data frame"
      ]
    },
    {
      "cell_type": "code",
      "metadata": {
        "id": "GQABoj612veT"
      },
      "source": [
        "import pandas as pd\r\n",
        "import io\r\n",
        "\r\n",
        "df = pd.read_csv(io.StringIO(uploaded['missing_strokes_1 AkraRecording_5.2.2021_2h4min59sec532.csv'].decode('utf-8')))\r\n",
        "#df #uncomment to show the loaded table"
      ],
      "execution_count": null,
      "outputs": []
    },
    {
      "cell_type": "markdown",
      "metadata": {
        "id": "-ywvQua0CG2w"
      },
      "source": [
        "## 2. GRAPH"
      ]
    },
    {
      "cell_type": "markdown",
      "metadata": {
        "id": "Wd8DUosv2_Yl"
      },
      "source": [
        "Process the data and spit out a graph"
      ]
    },
    {
      "cell_type": "code",
      "metadata": {
        "colab": {
          "base_uri": "https://localhost:8080/",
          "height": 542
        },
        "id": "q49pLYVArkoD",
        "outputId": "e56632be-28c9-40bb-92e7-07567e386629"
      },
      "source": [
        "import plotly.graph_objs as go\r\n",
        "import csv\r\n",
        "import matplotlib.pyplot as plt\r\n",
        "import plotly.express as px\r\n",
        "\r\n",
        "\r\n",
        "is_primary = df[' Device type']== ' Primary' #this is a column with true/false to assert if this is data for a controller\r\n",
        "stylus_data = df[is_primary]    #therefore we only take that subset of lines for the controller (ie stylus)\r\n",
        "\r\n",
        "nib=stylus_data[' Touchpad X value']*32768\r\n",
        "primary=stylus_data[' Touchpad Y value']*32768\r\n",
        "time=stylus_data['TimeStamp (ms)']\r\n",
        "\r\n",
        "s = pd.Series(nib) #create a panda serie from NIB LOADCELL data\r\n",
        "s.describe() #prints out stats data on serie\r\n",
        "\r\n",
        "t = pd.Series(time) #create a panda serie from time data\r\n",
        "t.diff()   #gives differences between samples in serie\r\n",
        "\r\n",
        "\r\n",
        "# detect baseline (simple minimum for now) for NIB\r\n",
        "minimum_nib = nib.array[0]\r\n",
        "minimum_nib_array = nib.copy()\r\n",
        "\r\n",
        "for index, value in enumerate(nib.array):\r\n",
        " if value < minimum_nib:\r\n",
        "   minimum_nib = value #if we found a smaller value\r\n",
        " #print(\"Index:\"+ str(index) + \" - min\" + str(minimum_nib))\r\n",
        " minimum_nib_array.array[index] = minimum_nib # place it into the array\r\n",
        "#plt.plot(minimum_nib_array)\r\n",
        "\r\n",
        "# detect baseline (simple minimum for now) for NIB\r\n",
        "minimum_pri = primary.array[0]\r\n",
        "minimum_pri_array = primary.copy()\r\n",
        "\r\n",
        "for index, value in enumerate(primary.array):\r\n",
        " if value < minimum_pri:\r\n",
        "   minimum_pri = value\r\n",
        " #print(\"Index:\"+ str(index) + \" - min\" + str(minimum_pri))\r\n",
        " minimum_pri_array.array[index] = minimum_pri\r\n",
        "#plt.plot(minimum_pri_array)\r\n",
        "\r\n",
        "\r\n",
        "# plot graph with all series\r\n",
        "fig = go.Figure([\r\n",
        "    go.Scatter(\r\n",
        "        name='Nib',\r\n",
        "        y=nib,\r\n",
        "        mode='lines',\r\n",
        "        marker=dict(color='blue', size=2),\r\n",
        "        showlegend=True\r\n",
        "    ),\r\n",
        "    go.Scatter(\r\n",
        "        name='Primary',\r\n",
        "        y=primary,\r\n",
        "        mode='lines',\r\n",
        "        marker=dict(color='red', size=2),\r\n",
        "        showlegend=True\r\n",
        "    ),\r\n",
        "    go.Scatter(\r\n",
        "        name='minimum_nib',\r\n",
        "        y=minimum_nib_array,\r\n",
        "        mode='lines',\r\n",
        "        marker=dict(color='pink', size=2),\r\n",
        "        showlegend=True\r\n",
        "    ), \r\n",
        "    go.Scatter(\r\n",
        "        name='minimum_pri',\r\n",
        "        y=minimum_pri_array,\r\n",
        "        mode='lines',\r\n",
        "        marker=dict(color='pink', size=2),\r\n",
        "        showlegend=True\r\n",
        "    )\r\n",
        "])\r\n",
        "fig.update_layout(\r\n",
        "    yaxis_title='adc raw value [counts]',\r\n",
        "    title='Loadcell raw values',\r\n",
        "    hovermode=\"x\"\r\n",
        ")\r\n",
        "fig.show()"
      ],
      "execution_count": null,
      "outputs": [
        {
          "output_type": "display_data",
          "data": {
            "text/html": [
              "<html>\n",
              "<head><meta charset=\"utf-8\" /></head>\n",
              "<body>\n",
              "    <div>\n",
              "            <script src=\"https://cdnjs.cloudflare.com/ajax/libs/mathjax/2.7.5/MathJax.js?config=TeX-AMS-MML_SVG\"></script><script type=\"text/javascript\">if (window.MathJax) {MathJax.Hub.Config({SVG: {font: \"STIX-Web\"}});}</script>\n",
              "                <script type=\"text/javascript\">window.PlotlyConfig = {MathJaxConfig: 'local'};</script>\n",
              "        <script src=\"https://cdn.plot.ly/plotly-latest.min.js\"></script>    \n",
              "            <div id=\"404e7610-4346-45e2-934d-d8622eb8504c\" class=\"plotly-graph-div\" style=\"height:525px; width:100%;\"></div>\n",
              "            <script type=\"text/javascript\">\n",
              "                \n",
              "                    window.PLOTLYENV=window.PLOTLYENV || {};\n",
              "                    \n",
              "                if (document.getElementById(\"404e7610-4346-45e2-934d-d8622eb8504c\")) {\n",
              "                    Plotly.newPlot(\n",
              "                        '404e7610-4346-45e2-934d-d8622eb8504c',\n",
              "                        [{\"marker\": {\"color\": \"blue\", \"size\": 2}, \"mode\": \"lines\", \"name\": \"Nib\", \"showlegend\": true, \"type\": \"scatter\", \"y\": [-0.50000003072, -0.50000003072, -0.50000003072, -0.50000003072, -0.50000003072, -0.50000003072, -0.50000003072, -0.50000003072, -0.50000003072, -0.50000003072, -0.50000003072, -0.50000003072, -0.50000003072, -0.50000003072, -0.50000003072, -0.50000003072, -0.50000003072, -0.50000003072, -0.50000003072, -0.50000003072, -0.50000003072, -0.50000003072, -0.50000003072, -0.50000003072, -0.50000003072, -0.50000003072, -0.50000003072, -0.50000003072, -0.50000003072, -0.50000003072, -0.50000003072, -0.50000003072, -0.50000003072, -0.50000003072, -0.50000003072, -0.50000003072, -0.50000003072, -0.50000003072, -0.50000003072, -0.50000003072, -0.50000003072, -0.50000003072, -0.50000003072, -0.50000003072, -0.50000003072, -0.50000003072, -0.50000003072, -0.50000003072, -0.50000003072, -0.50000003072, -0.50000003072, -0.50000003072, -0.50000003072, -0.50000003072, -0.50000003072, -0.50000003072, -0.50000003072, -0.50000003072, -0.50000003072, -0.50000003072, -0.50000003072, -0.50000003072, -0.50000003072, -0.50000003072, -0.50000003072, -0.50000003072, -0.50000003072, -0.50000003072, -0.50000003072, -0.50000003072, -0.50000003072, -0.50000003072, -0.50000003072, -0.50000003072, -0.50000003072, -0.50000003072, -0.50000003072, -0.50000003072, -0.50000003072, -0.50000003072, -0.50000003072, -0.50000003072, -0.50000003072, -0.50000003072, -0.50000003072, -0.50000003072, -0.50000003072, -0.50000003072, -0.50000003072, -0.50000003072, -0.50000003072, -0.50000003072, -0.50000003072, -0.50000003072, -0.50000003072, -0.50000003072, -0.50000003072, -0.50000003072, -0.50000003072, -0.50000003072, -0.50000003072, -0.50000003072, -0.50000003072, -0.50000003072, -0.50000003072, -0.50000003072, -0.50000003072, -0.50000003072, -0.50000003072, -0.50000003072, -0.50000003072]}, {\"marker\": {\"color\": \"red\", \"size\": 2}, \"mode\": \"lines\", \"name\": \"Primary\", \"showlegend\": true, \"type\": \"scatter\", \"y\": [0.50000003072, 0.50000003072, 0.50000003072, 0.50000003072, 0.50000003072, 0.50000003072, 0.50000003072, 0.50000003072, 0.50000003072, 0.50000003072, 0.50000003072, 0.50000003072, 0.50000003072, 0.50000003072, 0.50000003072, 0.50000003072, 0.50000003072, 0.50000003072, 0.50000003072, 0.50000003072, 0.50000003072, 0.50000003072, 0.50000003072, 0.50000003072, 0.50000003072, 0.50000003072, 0.50000003072, 0.50000003072, 0.50000003072, 0.50000003072, 0.50000003072, 0.50000003072, 0.50000003072, 0.50000003072, 0.50000003072, 0.50000003072, 0.50000003072, 0.50000003072, 0.50000003072, 0.50000003072, 0.50000003072, 0.50000003072, 0.50000003072, 0.50000003072, 0.50000003072, 0.50000003072, 0.50000003072, 0.50000003072, 0.50000003072, 0.50000003072, 0.50000003072, 0.50000003072, 0.50000003072, 0.50000003072, 0.50000003072, 0.50000003072, 0.50000003072, 0.50000003072, 0.50000003072, 0.50000003072, 0.50000003072, 0.50000003072, 0.50000003072, 0.50000003072, 0.50000003072, 0.50000003072, 0.50000003072, 0.50000003072, 0.50000003072, 0.50000003072, 0.50000003072, 0.50000003072, 0.50000003072, 0.50000003072, 0.50000003072, 0.50000003072, 0.50000003072, 0.50000003072, 0.50000003072, 0.50000003072, 0.50000003072, 0.50000003072, 0.50000003072, 0.50000003072, 0.50000003072, 0.50000003072, 0.50000003072, 0.50000003072, 0.50000003072, 0.50000003072, 0.50000003072, 0.50000003072, 0.50000003072, 0.50000003072, 0.50000003072, 0.50000003072, 0.50000003072, 0.50000003072, 0.50000003072, 0.50000003072, 0.50000003072, 0.50000003072, 0.50000003072, 0.50000003072, 0.50000003072, 0.50000003072, 0.50000003072, 0.50000003072, 0.50000003072, 0.50000003072, 0.50000003072]}, {\"marker\": {\"color\": \"pink\", \"size\": 2}, \"mode\": \"lines\", \"name\": \"minimum_nib\", \"showlegend\": true, \"type\": \"scatter\", \"y\": [-0.50000003072, -0.50000003072, -0.50000003072, -0.50000003072, -0.50000003072, -0.50000003072, -0.50000003072, -0.50000003072, -0.50000003072, -0.50000003072, -0.50000003072, -0.50000003072, -0.50000003072, -0.50000003072, -0.50000003072, -0.50000003072, -0.50000003072, -0.50000003072, -0.50000003072, -0.50000003072, -0.50000003072, -0.50000003072, -0.50000003072, -0.50000003072, -0.50000003072, -0.50000003072, -0.50000003072, -0.50000003072, -0.50000003072, -0.50000003072, -0.50000003072, -0.50000003072, -0.50000003072, -0.50000003072, -0.50000003072, -0.50000003072, -0.50000003072, -0.50000003072, -0.50000003072, -0.50000003072, -0.50000003072, -0.50000003072, -0.50000003072, -0.50000003072, -0.50000003072, -0.50000003072, -0.50000003072, -0.50000003072, -0.50000003072, -0.50000003072, -0.50000003072, -0.50000003072, -0.50000003072, -0.50000003072, -0.50000003072, -0.50000003072, -0.50000003072, -0.50000003072, -0.50000003072, -0.50000003072, -0.50000003072, -0.50000003072, -0.50000003072, -0.50000003072, -0.50000003072, -0.50000003072, -0.50000003072, -0.50000003072, -0.50000003072, -0.50000003072, -0.50000003072, -0.50000003072, -0.50000003072, -0.50000003072, -0.50000003072, -0.50000003072, -0.50000003072, -0.50000003072, -0.50000003072, -0.50000003072, -0.50000003072, -0.50000003072, -0.50000003072, -0.50000003072, -0.50000003072, -0.50000003072, -0.50000003072, -0.50000003072, -0.50000003072, -0.50000003072, -0.50000003072, -0.50000003072, -0.50000003072, -0.50000003072, -0.50000003072, -0.50000003072, -0.50000003072, -0.50000003072, -0.50000003072, -0.50000003072, -0.50000003072, -0.50000003072, -0.50000003072, -0.50000003072, -0.50000003072, -0.50000003072, -0.50000003072, -0.50000003072, -0.50000003072, -0.50000003072, -0.50000003072]}, {\"marker\": {\"color\": \"pink\", \"size\": 2}, \"mode\": \"lines\", \"name\": \"minimum_pri\", \"showlegend\": true, \"type\": \"scatter\", \"y\": [0.50000003072, 0.50000003072, 0.50000003072, 0.50000003072, 0.50000003072, 0.50000003072, 0.50000003072, 0.50000003072, 0.50000003072, 0.50000003072, 0.50000003072, 0.50000003072, 0.50000003072, 0.50000003072, 0.50000003072, 0.50000003072, 0.50000003072, 0.50000003072, 0.50000003072, 0.50000003072, 0.50000003072, 0.50000003072, 0.50000003072, 0.50000003072, 0.50000003072, 0.50000003072, 0.50000003072, 0.50000003072, 0.50000003072, 0.50000003072, 0.50000003072, 0.50000003072, 0.50000003072, 0.50000003072, 0.50000003072, 0.50000003072, 0.50000003072, 0.50000003072, 0.50000003072, 0.50000003072, 0.50000003072, 0.50000003072, 0.50000003072, 0.50000003072, 0.50000003072, 0.50000003072, 0.50000003072, 0.50000003072, 0.50000003072, 0.50000003072, 0.50000003072, 0.50000003072, 0.50000003072, 0.50000003072, 0.50000003072, 0.50000003072, 0.50000003072, 0.50000003072, 0.50000003072, 0.50000003072, 0.50000003072, 0.50000003072, 0.50000003072, 0.50000003072, 0.50000003072, 0.50000003072, 0.50000003072, 0.50000003072, 0.50000003072, 0.50000003072, 0.50000003072, 0.50000003072, 0.50000003072, 0.50000003072, 0.50000003072, 0.50000003072, 0.50000003072, 0.50000003072, 0.50000003072, 0.50000003072, 0.50000003072, 0.50000003072, 0.50000003072, 0.50000003072, 0.50000003072, 0.50000003072, 0.50000003072, 0.50000003072, 0.50000003072, 0.50000003072, 0.50000003072, 0.50000003072, 0.50000003072, 0.50000003072, 0.50000003072, 0.50000003072, 0.50000003072, 0.50000003072, 0.50000003072, 0.50000003072, 0.50000003072, 0.50000003072, 0.50000003072, 0.50000003072, 0.50000003072, 0.50000003072, 0.50000003072, 0.50000003072, 0.50000003072, 0.50000003072, 0.50000003072]}],\n",
              "                        {\"hovermode\": \"x\", \"template\": {\"data\": {\"bar\": [{\"error_x\": {\"color\": \"#2a3f5f\"}, \"error_y\": {\"color\": \"#2a3f5f\"}, \"marker\": {\"line\": {\"color\": \"#E5ECF6\", \"width\": 0.5}}, \"type\": \"bar\"}], \"barpolar\": [{\"marker\": {\"line\": {\"color\": \"#E5ECF6\", \"width\": 0.5}}, \"type\": \"barpolar\"}], \"carpet\": [{\"aaxis\": {\"endlinecolor\": \"#2a3f5f\", \"gridcolor\": \"white\", \"linecolor\": \"white\", \"minorgridcolor\": \"white\", \"startlinecolor\": \"#2a3f5f\"}, \"baxis\": {\"endlinecolor\": \"#2a3f5f\", \"gridcolor\": \"white\", \"linecolor\": \"white\", \"minorgridcolor\": \"white\", \"startlinecolor\": \"#2a3f5f\"}, \"type\": \"carpet\"}], \"choropleth\": [{\"colorbar\": {\"outlinewidth\": 0, \"ticks\": \"\"}, \"type\": \"choropleth\"}], \"contour\": [{\"colorbar\": {\"outlinewidth\": 0, \"ticks\": \"\"}, \"colorscale\": [[0.0, \"#0d0887\"], [0.1111111111111111, \"#46039f\"], [0.2222222222222222, \"#7201a8\"], [0.3333333333333333, \"#9c179e\"], [0.4444444444444444, \"#bd3786\"], [0.5555555555555556, \"#d8576b\"], [0.6666666666666666, \"#ed7953\"], [0.7777777777777778, \"#fb9f3a\"], [0.8888888888888888, \"#fdca26\"], [1.0, \"#f0f921\"]], \"type\": \"contour\"}], \"contourcarpet\": [{\"colorbar\": {\"outlinewidth\": 0, \"ticks\": \"\"}, \"type\": \"contourcarpet\"}], \"heatmap\": [{\"colorbar\": {\"outlinewidth\": 0, \"ticks\": \"\"}, \"colorscale\": [[0.0, \"#0d0887\"], [0.1111111111111111, \"#46039f\"], [0.2222222222222222, \"#7201a8\"], [0.3333333333333333, \"#9c179e\"], [0.4444444444444444, \"#bd3786\"], [0.5555555555555556, \"#d8576b\"], [0.6666666666666666, \"#ed7953\"], [0.7777777777777778, \"#fb9f3a\"], [0.8888888888888888, \"#fdca26\"], [1.0, \"#f0f921\"]], \"type\": \"heatmap\"}], \"heatmapgl\": [{\"colorbar\": {\"outlinewidth\": 0, \"ticks\": \"\"}, \"colorscale\": [[0.0, \"#0d0887\"], [0.1111111111111111, \"#46039f\"], [0.2222222222222222, \"#7201a8\"], [0.3333333333333333, \"#9c179e\"], [0.4444444444444444, \"#bd3786\"], [0.5555555555555556, \"#d8576b\"], [0.6666666666666666, \"#ed7953\"], [0.7777777777777778, \"#fb9f3a\"], [0.8888888888888888, \"#fdca26\"], [1.0, \"#f0f921\"]], \"type\": \"heatmapgl\"}], \"histogram\": [{\"marker\": {\"colorbar\": {\"outlinewidth\": 0, \"ticks\": \"\"}}, \"type\": \"histogram\"}], \"histogram2d\": [{\"colorbar\": {\"outlinewidth\": 0, \"ticks\": \"\"}, \"colorscale\": [[0.0, \"#0d0887\"], [0.1111111111111111, \"#46039f\"], [0.2222222222222222, \"#7201a8\"], [0.3333333333333333, \"#9c179e\"], [0.4444444444444444, \"#bd3786\"], [0.5555555555555556, \"#d8576b\"], [0.6666666666666666, \"#ed7953\"], [0.7777777777777778, \"#fb9f3a\"], [0.8888888888888888, \"#fdca26\"], [1.0, \"#f0f921\"]], \"type\": \"histogram2d\"}], \"histogram2dcontour\": [{\"colorbar\": {\"outlinewidth\": 0, \"ticks\": \"\"}, \"colorscale\": [[0.0, \"#0d0887\"], [0.1111111111111111, \"#46039f\"], [0.2222222222222222, \"#7201a8\"], [0.3333333333333333, \"#9c179e\"], [0.4444444444444444, \"#bd3786\"], [0.5555555555555556, \"#d8576b\"], [0.6666666666666666, \"#ed7953\"], [0.7777777777777778, \"#fb9f3a\"], [0.8888888888888888, \"#fdca26\"], [1.0, \"#f0f921\"]], \"type\": \"histogram2dcontour\"}], \"mesh3d\": [{\"colorbar\": {\"outlinewidth\": 0, \"ticks\": \"\"}, \"type\": \"mesh3d\"}], \"parcoords\": [{\"line\": {\"colorbar\": {\"outlinewidth\": 0, \"ticks\": \"\"}}, \"type\": \"parcoords\"}], \"pie\": [{\"automargin\": true, \"type\": \"pie\"}], \"scatter\": [{\"marker\": {\"colorbar\": {\"outlinewidth\": 0, \"ticks\": \"\"}}, \"type\": \"scatter\"}], \"scatter3d\": [{\"line\": {\"colorbar\": {\"outlinewidth\": 0, \"ticks\": \"\"}}, \"marker\": {\"colorbar\": {\"outlinewidth\": 0, \"ticks\": \"\"}}, \"type\": \"scatter3d\"}], \"scattercarpet\": [{\"marker\": {\"colorbar\": {\"outlinewidth\": 0, \"ticks\": \"\"}}, \"type\": \"scattercarpet\"}], \"scattergeo\": [{\"marker\": {\"colorbar\": {\"outlinewidth\": 0, \"ticks\": \"\"}}, \"type\": \"scattergeo\"}], \"scattergl\": [{\"marker\": {\"colorbar\": {\"outlinewidth\": 0, \"ticks\": \"\"}}, \"type\": \"scattergl\"}], \"scattermapbox\": [{\"marker\": {\"colorbar\": {\"outlinewidth\": 0, \"ticks\": \"\"}}, \"type\": \"scattermapbox\"}], \"scatterpolar\": [{\"marker\": {\"colorbar\": {\"outlinewidth\": 0, \"ticks\": \"\"}}, \"type\": \"scatterpolar\"}], \"scatterpolargl\": [{\"marker\": {\"colorbar\": {\"outlinewidth\": 0, \"ticks\": \"\"}}, \"type\": \"scatterpolargl\"}], \"scatterternary\": [{\"marker\": {\"colorbar\": {\"outlinewidth\": 0, \"ticks\": \"\"}}, \"type\": \"scatterternary\"}], \"surface\": [{\"colorbar\": {\"outlinewidth\": 0, \"ticks\": \"\"}, \"colorscale\": [[0.0, \"#0d0887\"], [0.1111111111111111, \"#46039f\"], [0.2222222222222222, \"#7201a8\"], [0.3333333333333333, \"#9c179e\"], [0.4444444444444444, \"#bd3786\"], [0.5555555555555556, \"#d8576b\"], [0.6666666666666666, \"#ed7953\"], [0.7777777777777778, \"#fb9f3a\"], [0.8888888888888888, \"#fdca26\"], [1.0, \"#f0f921\"]], \"type\": \"surface\"}], \"table\": [{\"cells\": {\"fill\": {\"color\": \"#EBF0F8\"}, \"line\": {\"color\": \"white\"}}, \"header\": {\"fill\": {\"color\": \"#C8D4E3\"}, \"line\": {\"color\": \"white\"}}, \"type\": \"table\"}]}, \"layout\": {\"annotationdefaults\": {\"arrowcolor\": \"#2a3f5f\", \"arrowhead\": 0, \"arrowwidth\": 1}, \"coloraxis\": {\"colorbar\": {\"outlinewidth\": 0, \"ticks\": \"\"}}, \"colorscale\": {\"diverging\": [[0, \"#8e0152\"], [0.1, \"#c51b7d\"], [0.2, \"#de77ae\"], [0.3, \"#f1b6da\"], [0.4, \"#fde0ef\"], [0.5, \"#f7f7f7\"], [0.6, \"#e6f5d0\"], [0.7, \"#b8e186\"], [0.8, \"#7fbc41\"], [0.9, \"#4d9221\"], [1, \"#276419\"]], \"sequential\": [[0.0, \"#0d0887\"], [0.1111111111111111, \"#46039f\"], [0.2222222222222222, \"#7201a8\"], [0.3333333333333333, \"#9c179e\"], [0.4444444444444444, \"#bd3786\"], [0.5555555555555556, \"#d8576b\"], [0.6666666666666666, \"#ed7953\"], [0.7777777777777778, \"#fb9f3a\"], [0.8888888888888888, \"#fdca26\"], [1.0, \"#f0f921\"]], \"sequentialminus\": [[0.0, \"#0d0887\"], [0.1111111111111111, \"#46039f\"], [0.2222222222222222, \"#7201a8\"], [0.3333333333333333, \"#9c179e\"], [0.4444444444444444, \"#bd3786\"], [0.5555555555555556, \"#d8576b\"], [0.6666666666666666, \"#ed7953\"], [0.7777777777777778, \"#fb9f3a\"], [0.8888888888888888, \"#fdca26\"], [1.0, \"#f0f921\"]]}, \"colorway\": [\"#636efa\", \"#EF553B\", \"#00cc96\", \"#ab63fa\", \"#FFA15A\", \"#19d3f3\", \"#FF6692\", \"#B6E880\", \"#FF97FF\", \"#FECB52\"], \"font\": {\"color\": \"#2a3f5f\"}, \"geo\": {\"bgcolor\": \"white\", \"lakecolor\": \"white\", \"landcolor\": \"#E5ECF6\", \"showlakes\": true, \"showland\": true, \"subunitcolor\": \"white\"}, \"hoverlabel\": {\"align\": \"left\"}, \"hovermode\": \"closest\", \"mapbox\": {\"style\": \"light\"}, \"paper_bgcolor\": \"white\", \"plot_bgcolor\": \"#E5ECF6\", \"polar\": {\"angularaxis\": {\"gridcolor\": \"white\", \"linecolor\": \"white\", \"ticks\": \"\"}, \"bgcolor\": \"#E5ECF6\", \"radialaxis\": {\"gridcolor\": \"white\", \"linecolor\": \"white\", \"ticks\": \"\"}}, \"scene\": {\"xaxis\": {\"backgroundcolor\": \"#E5ECF6\", \"gridcolor\": \"white\", \"gridwidth\": 2, \"linecolor\": \"white\", \"showbackground\": true, \"ticks\": \"\", \"zerolinecolor\": \"white\"}, \"yaxis\": {\"backgroundcolor\": \"#E5ECF6\", \"gridcolor\": \"white\", \"gridwidth\": 2, \"linecolor\": \"white\", \"showbackground\": true, \"ticks\": \"\", \"zerolinecolor\": \"white\"}, \"zaxis\": {\"backgroundcolor\": \"#E5ECF6\", \"gridcolor\": \"white\", \"gridwidth\": 2, \"linecolor\": \"white\", \"showbackground\": true, \"ticks\": \"\", \"zerolinecolor\": \"white\"}}, \"shapedefaults\": {\"line\": {\"color\": \"#2a3f5f\"}}, \"ternary\": {\"aaxis\": {\"gridcolor\": \"white\", \"linecolor\": \"white\", \"ticks\": \"\"}, \"baxis\": {\"gridcolor\": \"white\", \"linecolor\": \"white\", \"ticks\": \"\"}, \"bgcolor\": \"#E5ECF6\", \"caxis\": {\"gridcolor\": \"white\", \"linecolor\": \"white\", \"ticks\": \"\"}}, \"title\": {\"x\": 0.05}, \"xaxis\": {\"automargin\": true, \"gridcolor\": \"white\", \"linecolor\": \"white\", \"ticks\": \"\", \"title\": {\"standoff\": 15}, \"zerolinecolor\": \"white\", \"zerolinewidth\": 2}, \"yaxis\": {\"automargin\": true, \"gridcolor\": \"white\", \"linecolor\": \"white\", \"ticks\": \"\", \"title\": {\"standoff\": 15}, \"zerolinecolor\": \"white\", \"zerolinewidth\": 2}}}, \"title\": {\"text\": \"Loadcell raw values\"}, \"yaxis\": {\"title\": {\"text\": \"adc raw value [counts]\"}}},\n",
              "                        {\"responsive\": true}\n",
              "                    ).then(function(){\n",
              "                            \n",
              "var gd = document.getElementById('404e7610-4346-45e2-934d-d8622eb8504c');\n",
              "var x = new MutationObserver(function (mutations, observer) {{\n",
              "        var display = window.getComputedStyle(gd).display;\n",
              "        if (!display || display === 'none') {{\n",
              "            console.log([gd, 'removed!']);\n",
              "            Plotly.purge(gd);\n",
              "            observer.disconnect();\n",
              "        }}\n",
              "}});\n",
              "\n",
              "// Listen for the removal of the full notebook cells\n",
              "var notebookContainer = gd.closest('#notebook-container');\n",
              "if (notebookContainer) {{\n",
              "    x.observe(notebookContainer, {childList: true});\n",
              "}}\n",
              "\n",
              "// Listen for the clearing of the current output cell\n",
              "var outputEl = gd.closest('.output');\n",
              "if (outputEl) {{\n",
              "    x.observe(outputEl, {childList: true});\n",
              "}}\n",
              "\n",
              "                        })\n",
              "                };\n",
              "                \n",
              "            </script>\n",
              "        </div>\n",
              "</body>\n",
              "</html>"
            ]
          },
          "metadata": {
            "tags": []
          }
        }
      ]
    },
    {
      "cell_type": "markdown",
      "metadata": {
        "id": "h_Qy-0kjBoMV"
      },
      "source": [
        "##3. ANALYSIS"
      ]
    },
    {
      "cell_type": "markdown",
      "metadata": {
        "id": "weGqUShl-Tl3"
      },
      "source": [
        "First setup some variable params"
      ]
    },
    {
      "cell_type": "code",
      "metadata": {
        "colab": {
          "base_uri": "https://localhost:8080/",
          "height": 282
        },
        "id": "HQ6xUQin-Qio",
        "outputId": "0dec1ba5-82ea-4091-ed27-e638e83252f2"
      },
      "source": [
        "#@title Variable Parameters { run: \"auto\", form-width: \"50%\" }\r\n",
        "#last_frame = nib.count()\r\n",
        "first_frame = 0 #@param {type:\"integer\"}\r\n",
        "last_frame = 1800 #@param {type:\"integer\"}\r\n",
        "gF_ADC_count = 2 #@param {type:\"slider\", min:0, max:2, step:0.1}\r\n",
        "\r\n",
        "plt.plot(nib.iloc[first_frame:last_frame])"
      ],
      "execution_count": null,
      "outputs": [
        {
          "output_type": "execute_result",
          "data": {
            "text/plain": [
              "[<matplotlib.lines.Line2D at 0x7fcba1965f60>]"
            ]
          },
          "metadata": {
            "tags": []
          },
          "execution_count": 22
        },
        {
          "output_type": "display_data",
          "data": {
            "image/png": "[encoded data removed]",
            "text/plain": [
              "<Figure size 432x288 with 1 Axes>"
            ]
          },
          "metadata": {
            "tags": [],
            "needs_background": "light"
          }
        }
      ]
    },
    {
      "cell_type": "markdown",
      "metadata": {
        "id": "ItqKj8vqCpz0"
      },
      "source": [
        "Here you can plot how the minimum values captured in the log do change overtime"
      ]
    },
    {
      "cell_type": "code",
      "metadata": {
        "colab": {
          "base_uri": "https://localhost:8080/",
          "height": 299
        },
        "id": "vZTQAwxABVch",
        "outputId": "9033238c-75e1-4a3f-9fae-4cc56a925136"
      },
      "source": [
        "plt.plot(minimum_nib_array.iloc[first_frame:last_frame])\r\n",
        "plt.plot(minimum_pri_array.iloc[first_frame:last_frame])\r\n",
        "\r\n",
        "print(\"NIB: min=\"+str(nib.iloc[first_frame:last_frame].min())+ \" max=\"+ str(nib.iloc[first_frame:last_frame].max()))\r\n",
        "print(\"PRI: min=\"+str(primary.iloc[first_frame:last_frame].min())+ \" max=\"+ str(primary.iloc[first_frame:last_frame].max()))"
      ],
      "execution_count": null,
      "outputs": [
        {
          "output_type": "stream",
          "text": [
            "NIB: min=-293.503893504 max=-194.50390118400003\n",
            "PRI: min=-68.499996672 max=-8.4999995392\n"
          ],
          "name": "stdout"
        },
        {
          "output_type": "display_data",
          "data": {
            "image/png": "[encoded data removed]",
            "text/plain": [
              "<Figure size 432x288 with 1 Axes>"
            ]
          },
          "metadata": {
            "tags": [],
            "needs_background": "light"
          }
        }
      ]
    },
    {
      "cell_type": "markdown",
      "metadata": {
        "id": "L0SV8X213VzK"
      },
      "source": [
        "Evaluate the ACTIVITY"
      ]
    },
    {
      "cell_type": "code",
      "metadata": {
        "colab": {
          "base_uri": "https://localhost:8080/"
        },
        "id": "WCcMCVeY1d4t",
        "outputId": "467b912c-0ceb-4f23-c0eb-19c97b5289e1"
      },
      "source": [
        "\r\n",
        "print(\"NIB PARAMS ----------------------------------------\")\r\n",
        "print(\"Nib start value is \\t\\t %4.2f (in adc counts)\" % (nib.array[first_frame]))\r\n",
        "print(\"Nib min value is \\t\\t %4.2f (in adc counts)\" % (nib.iloc[first_frame:last_frame].min()))\r\n",
        "print(\"Nib max value is \\t\\t %4.2f (in adc counts)\" % (nib.iloc[first_frame:last_frame].max()))\r\n",
        "print(\"Nib full range is \\t\\t %4.2f (in adc counts)\" % (nib.iloc[first_frame:last_frame].max() - nib.iloc[first_frame:last_frame].min()))\r\n",
        "# nib minimum stability:\r\n",
        "#minimum_nib_array.describe()\r\n",
        "stability = minimum_nib_array.iloc[first_frame:last_frame].min() - minimum_nib_array.iloc[first_frame:last_frame].max()\r\n",
        "print(\"Nib minimum variation is \\t %4.2f (in adc counts) / %4.2f (gF)\\n\" %(stability, gF_ADC_count*stability))\r\n",
        "\r\n",
        "\r\n",
        "print(\"PRI PARAMS ----------------------------------------\")\r\n",
        "print(\"Pri start value is \\t\\t %4.2f (in adc counts)\" % (primary.array[first_frame]))\r\n",
        "print(\"Pri min value is \\t\\t %4.2f (in adc counts)\" % (nib.iloc[first_frame:last_frame].min()))\r\n",
        "print(\"Pri max value is \\t\\t %4.2f (in adc counts)\" % (nib.iloc[first_frame:last_frame].max()))\r\n",
        "print(\"Pri full range is \\t\\t %4.2f (in adc counts)\" % (primary.iloc[first_frame:last_frame].max() - primary.iloc[first_frame:last_frame].min()))\r\n",
        "# primary minimum stability:\r\n",
        "#minimum_pri_array.describe()\r\n",
        "stability = minimum_pri_array.iloc[first_frame:last_frame].min() - minimum_pri_array.iloc[first_frame:last_frame].max()\r\n",
        "print(\"Primary minimum variation is \\t %4.2f (in adc counts) / %4.2f (gF)\\n\" % (stability, gF_ADC_count*stability))\r\n",
        "\r\n",
        "print(\"COMMON PARAMS --------------------------------------\")\r\n",
        "# evaluate the correlation between nib and primary\r\n",
        "# which is a sign of crosstalk\r\n",
        "correlation = nib.corr(primary)\r\n",
        "print(\"The crosstalk (correlation) between nib and primary is %4.2f (0 is good and 1 is bad) \\n\" % (correlation))\r\n",
        "\r\n",
        "\r\n"
      ],
      "execution_count": null,
      "outputs": [
        {
          "output_type": "stream",
          "text": [
            "NIB PARAMS ----------------------------------------\n",
            "Nib start value is \t\t -292.50 (in adc counts)\n",
            "Nib min value is \t\t -293.50 (in adc counts)\n",
            "Nib max value is \t\t -194.50 (in adc counts)\n",
            "Nib full range is \t\t 99.00 (in adc counts)\n",
            "Nib minimum variation is \t -1.00 (in adc counts) / -2.00 (gF)\n",
            "\n",
            "PRI PARAMS ----------------------------------------\n",
            "Pri start value is \t\t -66.50 (in adc counts)\n",
            "Pri min value is \t\t -293.50 (in adc counts)\n",
            "Pri max value is \t\t -194.50 (in adc counts)\n",
            "Pri full range is \t\t 60.00 (in adc counts)\n",
            "Primary minimum variation is \t -2.00 (in adc counts) / -4.00 (gF)\n",
            "\n",
            "COMMON PARAMS --------------------------------------\n",
            "The crosstalk (correlation) between nib and primary is 0.75 (0 is good and 1 is bad) \n",
            "\n"
          ],
          "name": "stdout"
        }
      ]
    }
  ]
}